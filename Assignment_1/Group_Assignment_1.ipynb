{
  "nbformat": 4,
  "nbformat_minor": 0,
  "metadata": {
    "colab": {
      "provenance": [],
      "include_colab_link": true
    },
    "kernelspec": {
      "name": "python3",
      "display_name": "Python 3"
    },
    "language_info": {
      "name": "python"
    },
    "widgets": {
      "application/vnd.jupyter.widget-state+json": {
        "9db9701e516f41eda6eedaf33ccb46a3": {
          "model_module": "@jupyter-widgets/controls",
          "model_name": "HBoxModel",
          "model_module_version": "1.5.0",
          "state": {
            "_dom_classes": [],
            "_model_module": "@jupyter-widgets/controls",
            "_model_module_version": "1.5.0",
            "_model_name": "HBoxModel",
            "_view_count": null,
            "_view_module": "@jupyter-widgets/controls",
            "_view_module_version": "1.5.0",
            "_view_name": "HBoxView",
            "box_style": "",
            "children": [
              "IPY_MODEL_df332d6adfeb4f1f8e538676dd926bd7",
              "IPY_MODEL_b4ceb8c6c0e64155a64a50e7ba219a6a",
              "IPY_MODEL_4627c7a8d08b4575a9a1147791cc1e06"
            ],
            "layout": "IPY_MODEL_6c7e05f8aa824d0a824a6bf3c7d3a82d"
          }
        },
        "df332d6adfeb4f1f8e538676dd926bd7": {
          "model_module": "@jupyter-widgets/controls",
          "model_name": "HTMLModel",
          "model_module_version": "1.5.0",
          "state": {
            "_dom_classes": [],
            "_model_module": "@jupyter-widgets/controls",
            "_model_module_version": "1.5.0",
            "_model_name": "HTMLModel",
            "_view_count": null,
            "_view_module": "@jupyter-widgets/controls",
            "_view_module_version": "1.5.0",
            "_view_name": "HTMLView",
            "description": "",
            "description_tooltip": null,
            "layout": "IPY_MODEL_ddd73333530845afbd22f41a9a0ea2a5",
            "placeholder": "​",
            "style": "IPY_MODEL_73295a7f6550419ebb70cfd08957eb06",
            "value": "Epochs: 100%"
          }
        },
        "b4ceb8c6c0e64155a64a50e7ba219a6a": {
          "model_module": "@jupyter-widgets/controls",
          "model_name": "FloatProgressModel",
          "model_module_version": "1.5.0",
          "state": {
            "_dom_classes": [],
            "_model_module": "@jupyter-widgets/controls",
            "_model_module_version": "1.5.0",
            "_model_name": "FloatProgressModel",
            "_view_count": null,
            "_view_module": "@jupyter-widgets/controls",
            "_view_module_version": "1.5.0",
            "_view_name": "ProgressView",
            "bar_style": "success",
            "description": "",
            "description_tooltip": null,
            "layout": "IPY_MODEL_667dc5fa394f4a299eb536c125bb98cc",
            "max": 10,
            "min": 0,
            "orientation": "horizontal",
            "style": "IPY_MODEL_82af16abc1dd4d5982eae29c6e4f0c8d",
            "value": 10
          }
        },
        "4627c7a8d08b4575a9a1147791cc1e06": {
          "model_module": "@jupyter-widgets/controls",
          "model_name": "HTMLModel",
          "model_module_version": "1.5.0",
          "state": {
            "_dom_classes": [],
            "_model_module": "@jupyter-widgets/controls",
            "_model_module_version": "1.5.0",
            "_model_name": "HTMLModel",
            "_view_count": null,
            "_view_module": "@jupyter-widgets/controls",
            "_view_module_version": "1.5.0",
            "_view_name": "HTMLView",
            "description": "",
            "description_tooltip": null,
            "layout": "IPY_MODEL_9dfbaa9ce02b4950b8b88e8da4caa9bb",
            "placeholder": "​",
            "style": "IPY_MODEL_a7568f32203d4ba18fcce4da00b0811c",
            "value": " 10/10 [07:37&lt;00:00, 45.74s/it]"
          }
        },
        "6c7e05f8aa824d0a824a6bf3c7d3a82d": {
          "model_module": "@jupyter-widgets/base",
          "model_name": "LayoutModel",
          "model_module_version": "1.2.0",
          "state": {
            "_model_module": "@jupyter-widgets/base",
            "_model_module_version": "1.2.0",
            "_model_name": "LayoutModel",
            "_view_count": null,
            "_view_module": "@jupyter-widgets/base",
            "_view_module_version": "1.2.0",
            "_view_name": "LayoutView",
            "align_content": null,
            "align_items": null,
            "align_self": null,
            "border": null,
            "bottom": null,
            "display": null,
            "flex": null,
            "flex_flow": null,
            "grid_area": null,
            "grid_auto_columns": null,
            "grid_auto_flow": null,
            "grid_auto_rows": null,
            "grid_column": null,
            "grid_gap": null,
            "grid_row": null,
            "grid_template_areas": null,
            "grid_template_columns": null,
            "grid_template_rows": null,
            "height": null,
            "justify_content": null,
            "justify_items": null,
            "left": null,
            "margin": null,
            "max_height": null,
            "max_width": null,
            "min_height": null,
            "min_width": null,
            "object_fit": null,
            "object_position": null,
            "order": null,
            "overflow": null,
            "overflow_x": null,
            "overflow_y": null,
            "padding": null,
            "right": null,
            "top": null,
            "visibility": null,
            "width": null
          }
        },
        "ddd73333530845afbd22f41a9a0ea2a5": {
          "model_module": "@jupyter-widgets/base",
          "model_name": "LayoutModel",
          "model_module_version": "1.2.0",
          "state": {
            "_model_module": "@jupyter-widgets/base",
            "_model_module_version": "1.2.0",
            "_model_name": "LayoutModel",
            "_view_count": null,
            "_view_module": "@jupyter-widgets/base",
            "_view_module_version": "1.2.0",
            "_view_name": "LayoutView",
            "align_content": null,
            "align_items": null,
            "align_self": null,
            "border": null,
            "bottom": null,
            "display": null,
            "flex": null,
            "flex_flow": null,
            "grid_area": null,
            "grid_auto_columns": null,
            "grid_auto_flow": null,
            "grid_auto_rows": null,
            "grid_column": null,
            "grid_gap": null,
            "grid_row": null,
            "grid_template_areas": null,
            "grid_template_columns": null,
            "grid_template_rows": null,
            "height": null,
            "justify_content": null,
            "justify_items": null,
            "left": null,
            "margin": null,
            "max_height": null,
            "max_width": null,
            "min_height": null,
            "min_width": null,
            "object_fit": null,
            "object_position": null,
            "order": null,
            "overflow": null,
            "overflow_x": null,
            "overflow_y": null,
            "padding": null,
            "right": null,
            "top": null,
            "visibility": null,
            "width": null
          }
        },
        "73295a7f6550419ebb70cfd08957eb06": {
          "model_module": "@jupyter-widgets/controls",
          "model_name": "DescriptionStyleModel",
          "model_module_version": "1.5.0",
          "state": {
            "_model_module": "@jupyter-widgets/controls",
            "_model_module_version": "1.5.0",
            "_model_name": "DescriptionStyleModel",
            "_view_count": null,
            "_view_module": "@jupyter-widgets/base",
            "_view_module_version": "1.2.0",
            "_view_name": "StyleView",
            "description_width": ""
          }
        },
        "667dc5fa394f4a299eb536c125bb98cc": {
          "model_module": "@jupyter-widgets/base",
          "model_name": "LayoutModel",
          "model_module_version": "1.2.0",
          "state": {
            "_model_module": "@jupyter-widgets/base",
            "_model_module_version": "1.2.0",
            "_model_name": "LayoutModel",
            "_view_count": null,
            "_view_module": "@jupyter-widgets/base",
            "_view_module_version": "1.2.0",
            "_view_name": "LayoutView",
            "align_content": null,
            "align_items": null,
            "align_self": null,
            "border": null,
            "bottom": null,
            "display": null,
            "flex": null,
            "flex_flow": null,
            "grid_area": null,
            "grid_auto_columns": null,
            "grid_auto_flow": null,
            "grid_auto_rows": null,
            "grid_column": null,
            "grid_gap": null,
            "grid_row": null,
            "grid_template_areas": null,
            "grid_template_columns": null,
            "grid_template_rows": null,
            "height": null,
            "justify_content": null,
            "justify_items": null,
            "left": null,
            "margin": null,
            "max_height": null,
            "max_width": null,
            "min_height": null,
            "min_width": null,
            "object_fit": null,
            "object_position": null,
            "order": null,
            "overflow": null,
            "overflow_x": null,
            "overflow_y": null,
            "padding": null,
            "right": null,
            "top": null,
            "visibility": null,
            "width": null
          }
        },
        "82af16abc1dd4d5982eae29c6e4f0c8d": {
          "model_module": "@jupyter-widgets/controls",
          "model_name": "ProgressStyleModel",
          "model_module_version": "1.5.0",
          "state": {
            "_model_module": "@jupyter-widgets/controls",
            "_model_module_version": "1.5.0",
            "_model_name": "ProgressStyleModel",
            "_view_count": null,
            "_view_module": "@jupyter-widgets/base",
            "_view_module_version": "1.2.0",
            "_view_name": "StyleView",
            "bar_color": null,
            "description_width": ""
          }
        },
        "9dfbaa9ce02b4950b8b88e8da4caa9bb": {
          "model_module": "@jupyter-widgets/base",
          "model_name": "LayoutModel",
          "model_module_version": "1.2.0",
          "state": {
            "_model_module": "@jupyter-widgets/base",
            "_model_module_version": "1.2.0",
            "_model_name": "LayoutModel",
            "_view_count": null,
            "_view_module": "@jupyter-widgets/base",
            "_view_module_version": "1.2.0",
            "_view_name": "LayoutView",
            "align_content": null,
            "align_items": null,
            "align_self": null,
            "border": null,
            "bottom": null,
            "display": null,
            "flex": null,
            "flex_flow": null,
            "grid_area": null,
            "grid_auto_columns": null,
            "grid_auto_flow": null,
            "grid_auto_rows": null,
            "grid_column": null,
            "grid_gap": null,
            "grid_row": null,
            "grid_template_areas": null,
            "grid_template_columns": null,
            "grid_template_rows": null,
            "height": null,
            "justify_content": null,
            "justify_items": null,
            "left": null,
            "margin": null,
            "max_height": null,
            "max_width": null,
            "min_height": null,
            "min_width": null,
            "object_fit": null,
            "object_position": null,
            "order": null,
            "overflow": null,
            "overflow_x": null,
            "overflow_y": null,
            "padding": null,
            "right": null,
            "top": null,
            "visibility": null,
            "width": null
          }
        },
        "a7568f32203d4ba18fcce4da00b0811c": {
          "model_module": "@jupyter-widgets/controls",
          "model_name": "DescriptionStyleModel",
          "model_module_version": "1.5.0",
          "state": {
            "_model_module": "@jupyter-widgets/controls",
            "_model_module_version": "1.5.0",
            "_model_name": "DescriptionStyleModel",
            "_view_count": null,
            "_view_module": "@jupyter-widgets/base",
            "_view_module_version": "1.2.0",
            "_view_name": "StyleView",
            "description_width": ""
          }
        },
        "c263118628d6410b9c56e0792eb5c2e9": {
          "model_module": "@jupyter-widgets/controls",
          "model_name": "HBoxModel",
          "model_module_version": "1.5.0",
          "state": {
            "_dom_classes": [],
            "_model_module": "@jupyter-widgets/controls",
            "_model_module_version": "1.5.0",
            "_model_name": "HBoxModel",
            "_view_count": null,
            "_view_module": "@jupyter-widgets/controls",
            "_view_module_version": "1.5.0",
            "_view_name": "HBoxView",
            "box_style": "",
            "children": [
              "IPY_MODEL_4969d27ff9904383a045403d9e327a0c",
              "IPY_MODEL_f5e29f5472c74c6dba7a5a7012d9ea95",
              "IPY_MODEL_0304df7e7c7b434ba5804cd28e3f5aef"
            ],
            "layout": "IPY_MODEL_3193232cc57f44448f7d26b434ecc0ae"
          }
        },
        "4969d27ff9904383a045403d9e327a0c": {
          "model_module": "@jupyter-widgets/controls",
          "model_name": "HTMLModel",
          "model_module_version": "1.5.0",
          "state": {
            "_dom_classes": [],
            "_model_module": "@jupyter-widgets/controls",
            "_model_module_version": "1.5.0",
            "_model_name": "HTMLModel",
            "_view_count": null,
            "_view_module": "@jupyter-widgets/controls",
            "_view_module_version": "1.5.0",
            "_view_name": "HTMLView",
            "description": "",
            "description_tooltip": null,
            "layout": "IPY_MODEL_44be3cd47e644cf38f6abcf7b97489a4",
            "placeholder": "​",
            "style": "IPY_MODEL_7737899a020940b5974fea3669a2ab76",
            "value": "Epochs: 100%"
          }
        },
        "f5e29f5472c74c6dba7a5a7012d9ea95": {
          "model_module": "@jupyter-widgets/controls",
          "model_name": "FloatProgressModel",
          "model_module_version": "1.5.0",
          "state": {
            "_dom_classes": [],
            "_model_module": "@jupyter-widgets/controls",
            "_model_module_version": "1.5.0",
            "_model_name": "FloatProgressModel",
            "_view_count": null,
            "_view_module": "@jupyter-widgets/controls",
            "_view_module_version": "1.5.0",
            "_view_name": "ProgressView",
            "bar_style": "success",
            "description": "",
            "description_tooltip": null,
            "layout": "IPY_MODEL_f528fe3191804808ab0bfdb23266e4b8",
            "max": 10,
            "min": 0,
            "orientation": "horizontal",
            "style": "IPY_MODEL_adb01cae0da84a609412ca8f9fe5d0f5",
            "value": 10
          }
        },
        "0304df7e7c7b434ba5804cd28e3f5aef": {
          "model_module": "@jupyter-widgets/controls",
          "model_name": "HTMLModel",
          "model_module_version": "1.5.0",
          "state": {
            "_dom_classes": [],
            "_model_module": "@jupyter-widgets/controls",
            "_model_module_version": "1.5.0",
            "_model_name": "HTMLModel",
            "_view_count": null,
            "_view_module": "@jupyter-widgets/controls",
            "_view_module_version": "1.5.0",
            "_view_name": "HTMLView",
            "description": "",
            "description_tooltip": null,
            "layout": "IPY_MODEL_c9b72934520c468487693f539eebd3fa",
            "placeholder": "​",
            "style": "IPY_MODEL_0f770d0f20d14f46916199dd97375749",
            "value": " 10/10 [00:19&lt;00:00,  1.87s/it]"
          }
        },
        "3193232cc57f44448f7d26b434ecc0ae": {
          "model_module": "@jupyter-widgets/base",
          "model_name": "LayoutModel",
          "model_module_version": "1.2.0",
          "state": {
            "_model_module": "@jupyter-widgets/base",
            "_model_module_version": "1.2.0",
            "_model_name": "LayoutModel",
            "_view_count": null,
            "_view_module": "@jupyter-widgets/base",
            "_view_module_version": "1.2.0",
            "_view_name": "LayoutView",
            "align_content": null,
            "align_items": null,
            "align_self": null,
            "border": null,
            "bottom": null,
            "display": null,
            "flex": null,
            "flex_flow": null,
            "grid_area": null,
            "grid_auto_columns": null,
            "grid_auto_flow": null,
            "grid_auto_rows": null,
            "grid_column": null,
            "grid_gap": null,
            "grid_row": null,
            "grid_template_areas": null,
            "grid_template_columns": null,
            "grid_template_rows": null,
            "height": null,
            "justify_content": null,
            "justify_items": null,
            "left": null,
            "margin": null,
            "max_height": null,
            "max_width": null,
            "min_height": null,
            "min_width": null,
            "object_fit": null,
            "object_position": null,
            "order": null,
            "overflow": null,
            "overflow_x": null,
            "overflow_y": null,
            "padding": null,
            "right": null,
            "top": null,
            "visibility": null,
            "width": null
          }
        },
        "44be3cd47e644cf38f6abcf7b97489a4": {
          "model_module": "@jupyter-widgets/base",
          "model_name": "LayoutModel",
          "model_module_version": "1.2.0",
          "state": {
            "_model_module": "@jupyter-widgets/base",
            "_model_module_version": "1.2.0",
            "_model_name": "LayoutModel",
            "_view_count": null,
            "_view_module": "@jupyter-widgets/base",
            "_view_module_version": "1.2.0",
            "_view_name": "LayoutView",
            "align_content": null,
            "align_items": null,
            "align_self": null,
            "border": null,
            "bottom": null,
            "display": null,
            "flex": null,
            "flex_flow": null,
            "grid_area": null,
            "grid_auto_columns": null,
            "grid_auto_flow": null,
            "grid_auto_rows": null,
            "grid_column": null,
            "grid_gap": null,
            "grid_row": null,
            "grid_template_areas": null,
            "grid_template_columns": null,
            "grid_template_rows": null,
            "height": null,
            "justify_content": null,
            "justify_items": null,
            "left": null,
            "margin": null,
            "max_height": null,
            "max_width": null,
            "min_height": null,
            "min_width": null,
            "object_fit": null,
            "object_position": null,
            "order": null,
            "overflow": null,
            "overflow_x": null,
            "overflow_y": null,
            "padding": null,
            "right": null,
            "top": null,
            "visibility": null,
            "width": null
          }
        },
        "7737899a020940b5974fea3669a2ab76": {
          "model_module": "@jupyter-widgets/controls",
          "model_name": "DescriptionStyleModel",
          "model_module_version": "1.5.0",
          "state": {
            "_model_module": "@jupyter-widgets/controls",
            "_model_module_version": "1.5.0",
            "_model_name": "DescriptionStyleModel",
            "_view_count": null,
            "_view_module": "@jupyter-widgets/base",
            "_view_module_version": "1.2.0",
            "_view_name": "StyleView",
            "description_width": ""
          }
        },
        "f528fe3191804808ab0bfdb23266e4b8": {
          "model_module": "@jupyter-widgets/base",
          "model_name": "LayoutModel",
          "model_module_version": "1.2.0",
          "state": {
            "_model_module": "@jupyter-widgets/base",
            "_model_module_version": "1.2.0",
            "_model_name": "LayoutModel",
            "_view_count": null,
            "_view_module": "@jupyter-widgets/base",
            "_view_module_version": "1.2.0",
            "_view_name": "LayoutView",
            "align_content": null,
            "align_items": null,
            "align_self": null,
            "border": null,
            "bottom": null,
            "display": null,
            "flex": null,
            "flex_flow": null,
            "grid_area": null,
            "grid_auto_columns": null,
            "grid_auto_flow": null,
            "grid_auto_rows": null,
            "grid_column": null,
            "grid_gap": null,
            "grid_row": null,
            "grid_template_areas": null,
            "grid_template_columns": null,
            "grid_template_rows": null,
            "height": null,
            "justify_content": null,
            "justify_items": null,
            "left": null,
            "margin": null,
            "max_height": null,
            "max_width": null,
            "min_height": null,
            "min_width": null,
            "object_fit": null,
            "object_position": null,
            "order": null,
            "overflow": null,
            "overflow_x": null,
            "overflow_y": null,
            "padding": null,
            "right": null,
            "top": null,
            "visibility": null,
            "width": null
          }
        },
        "adb01cae0da84a609412ca8f9fe5d0f5": {
          "model_module": "@jupyter-widgets/controls",
          "model_name": "ProgressStyleModel",
          "model_module_version": "1.5.0",
          "state": {
            "_model_module": "@jupyter-widgets/controls",
            "_model_module_version": "1.5.0",
            "_model_name": "ProgressStyleModel",
            "_view_count": null,
            "_view_module": "@jupyter-widgets/base",
            "_view_module_version": "1.2.0",
            "_view_name": "StyleView",
            "bar_color": null,
            "description_width": ""
          }
        },
        "c9b72934520c468487693f539eebd3fa": {
          "model_module": "@jupyter-widgets/base",
          "model_name": "LayoutModel",
          "model_module_version": "1.2.0",
          "state": {
            "_model_module": "@jupyter-widgets/base",
            "_model_module_version": "1.2.0",
            "_model_name": "LayoutModel",
            "_view_count": null,
            "_view_module": "@jupyter-widgets/base",
            "_view_module_version": "1.2.0",
            "_view_name": "LayoutView",
            "align_content": null,
            "align_items": null,
            "align_self": null,
            "border": null,
            "bottom": null,
            "display": null,
            "flex": null,
            "flex_flow": null,
            "grid_area": null,
            "grid_auto_columns": null,
            "grid_auto_flow": null,
            "grid_auto_rows": null,
            "grid_column": null,
            "grid_gap": null,
            "grid_row": null,
            "grid_template_areas": null,
            "grid_template_columns": null,
            "grid_template_rows": null,
            "height": null,
            "justify_content": null,
            "justify_items": null,
            "left": null,
            "margin": null,
            "max_height": null,
            "max_width": null,
            "min_height": null,
            "min_width": null,
            "object_fit": null,
            "object_position": null,
            "order": null,
            "overflow": null,
            "overflow_x": null,
            "overflow_y": null,
            "padding": null,
            "right": null,
            "top": null,
            "visibility": null,
            "width": null
          }
        },
        "0f770d0f20d14f46916199dd97375749": {
          "model_module": "@jupyter-widgets/controls",
          "model_name": "DescriptionStyleModel",
          "model_module_version": "1.5.0",
          "state": {
            "_model_module": "@jupyter-widgets/controls",
            "_model_module_version": "1.5.0",
            "_model_name": "DescriptionStyleModel",
            "_view_count": null,
            "_view_module": "@jupyter-widgets/base",
            "_view_module_version": "1.2.0",
            "_view_name": "StyleView",
            "description_width": ""
          }
        }
      }
    }
  },
  "cells": [
    {
      "cell_type": "markdown",
      "metadata": {
        "id": "view-in-github",
        "colab_type": "text"
      },
      "source": [
        "<a href=\"https://colab.research.google.com/github/hylle77/BDS/blob/main/Group_Assignment_1.ipynb\" target=\"_parent\"><img src=\"https://colab.research.google.com/assets/colab-badge.svg\" alt=\"Open In Colab\"/></a>"
      ]
    },
    {
      "cell_type": "markdown",
      "source": [
        "# Importing necessary libraries\n"
      ],
      "metadata": {
        "id": "1B9yTfkVjw7N"
      }
    },
    {
      "cell_type": "code",
      "execution_count": 1,
      "metadata": {
        "id": "gLLvQmC1ifpK"
      },
      "outputs": [],
      "source": [
        "import numpy as np\n",
        "import pandas as pd\n",
        "import matplotlib.pyplot as plt\n",
        "from tqdm import tqdm_notebook\n",
        "from sklearn.preprocessing import MinMaxScaler\n",
        "import matplotlib.cm as cm\n",
        "import torch\n",
        "from tqdm.notebook import tqdm\n",
        "from keras.datasets import mnist\n",
        "from matplotlib import pyplot\n",
        "from sklearn.model_selection import train_test_split\n",
        "import torch.nn as nn\n",
        "from torch.utils.data import DataLoader, TensorDataset\n",
        "from sklearn.metrics import confusion_matrix\n",
        "import seaborn as sns\n",
        "import itertools"
      ]
    },
    {
      "cell_type": "markdown",
      "source": [
        "# Loading the dataset"
      ],
      "metadata": {
        "id": "8O0oTmldj1-5"
      }
    },
    {
      "cell_type": "code",
      "source": [
        "#loading the dataset\n",
        "(train_X, train_y), (test_X, test_y) = mnist.load_data()\n",
        "\n",
        "#printing the shapes of the vectors\n",
        "print('X_train: ' + str(train_X.shape))\n",
        "print('Y_train: ' + str(train_y.shape))\n",
        "print('X_test:  '  + str(test_X.shape))\n",
        "print('Y_test:  '  + str(test_y.shape))"
      ],
      "metadata": {
        "id": "S2Ak7nFNj4fb",
        "colab": {
          "base_uri": "https://localhost:8080/"
        },
        "outputId": "87a5f68a-1e54-4304-e387-c57977fbc35b"
      },
      "execution_count": 2,
      "outputs": [
        {
          "output_type": "stream",
          "name": "stdout",
          "text": [
            "Downloading data from https://storage.googleapis.com/tensorflow/tf-keras-datasets/mnist.npz\n",
            "11490434/11490434 [==============================] - 1s 0us/step\n",
            "X_train: (60000, 28, 28)\n",
            "Y_train: (60000,)\n",
            "X_test:  (10000, 28, 28)\n",
            "Y_test:  (10000,)\n"
          ]
        }
      ]
    },
    {
      "cell_type": "code",
      "source": [
        "#Plotting the dataset\n",
        "for i in range(9):\n",
        "  pyplot.subplot(330 + 1 + i)\n",
        "  pyplot.imshow(train_X[i], cmap=pyplot.get_cmap('gray'))\n",
        "  pyplot.show()"
      ],
      "metadata": {
        "colab": {
          "base_uri": "https://localhost:8080/",
          "height": 1000
        },
        "id": "lTbA6My4VSwW",
        "outputId": "6eb9d7ac-45c9-4007-ad83-39171eca99b1"
      },
      "execution_count": 3,
      "outputs": [
        {
          "output_type": "display_data",
          "data": {
            "text/plain": [
              "<Figure size 640x480 with 1 Axes>"
            ],
            "image/png": "[encoded data removed]"
          },
          "metadata": {}
        },
        {
          "output_type": "display_data",
          "data": {
            "text/plain": [
              "<Figure size 640x480 with 1 Axes>"
            ],
            "image/png": "[encoded data removed]"
          },
          "metadata": {}
        },
        {
          "output_type": "display_data",
          "data": {
            "text/plain": [
              "<Figure size 640x480 with 1 Axes>"
            ],
            "image/png": "[encoded data removed]"
          },
          "metadata": {}
        },
        {
          "output_type": "display_data",
          "data": {
            "text/plain": [
              "<Figure size 640x480 with 1 Axes>"
            ],
            "image/png": "[encoded data removed]"
          },
          "metadata": {}
        },
        {
          "output_type": "display_data",
          "data": {
            "text/plain": [
              "<Figure size 640x480 with 1 Axes>"
            ],
            "image/png": "[encoded data removed]"
          },
          "metadata": {}
        },
        {
          "output_type": "display_data",
          "data": {
            "text/plain": [
              "<Figure size 640x480 with 1 Axes>"
            ],
            "image/png": "[encoded data removed]"
          },
          "metadata": {}
        },
        {
          "output_type": "display_data",
          "data": {
            "text/plain": [
              "<Figure size 640x480 with 1 Axes>"
            ],
            "image/png": "[encoded data removed]"
          },
          "metadata": {}
        },
        {
          "output_type": "display_data",
          "data": {
            "text/plain": [
              "<Figure size 640x480 with 1 Axes>"
            ],
            "image/png": "[encoded data removed]"
          },
          "metadata": {}
        },
        {
          "output_type": "display_data",
          "data": {
            "text/plain": [
              "<Figure size 640x480 with 1 Axes>"
            ],
            "image/png": "[encoded data removed]"
          },
          "metadata": {}
        }
      ]
    },
    {
      "cell_type": "markdown",
      "source": [
        "# Preprocessing"
      ],
      "metadata": {
        "id": "J6X8Aiw4j7QJ"
      }
    },
    {
      "cell_type": "code",
      "source": [
        "#Flatten the images to 1D array of 784 features (28x28)\n",
        "train_X_flattened = train_X.reshape((-1, 28*28)).astype('float32')\n",
        "test_X_flattened = test_X.reshape((-1, 28*28)).astype('float32')\n",
        "\n",
        "#Define the scaler\n",
        "scaler = MinMaxScaler()\n",
        "\n",
        "#Fit and transform the training data\n",
        "train_X_scaled = scaler.fit_transform(train_X_flattened)\n",
        "\n",
        "#Only transform the test data\n",
        "test_X_scaled = scaler.transform(test_X_flattened)\n",
        "\n",
        "#Convert to PyTorch Tensors\n",
        "X_train_tensor = torch.tensor(train_X_scaled, dtype=torch.float32)\n",
        "X_test_tensor = torch.tensor(test_X_scaled, dtype=torch.float32)\n",
        "y_train_tensor = torch.tensor(train_y, dtype=torch.long)\n",
        "y_test_tensor = torch.tensor(test_y, dtype=torch.long)\n",
        "\n",
        "#Spliting the data into train and validation sets for model training\n",
        "X_train_tensor, X_val_tensor, y_train_tensor, y_val_tensor = train_test_split(\n",
        "    X_train_tensor, y_train_tensor, test_size=0.2, random_state=42)"
      ],
      "metadata": {
        "id": "GuvkwGUuj9AI"
      },
      "execution_count": 4,
      "outputs": []
    },
    {
      "cell_type": "markdown",
      "source": [
        "# Define the Neural Network"
      ],
      "metadata": {
        "id": "OcfLqM_Oj9au"
      }
    },
    {
      "cell_type": "code",
      "source": [
        "#Initializing Hyperparameters\n",
        "epochs = 10\n",
        "learning_rate = 0.05\n",
        "\n",
        "#Record of loss for each epoch\n",
        "loss_set = {}\n",
        "\n",
        "# 1. Creating a FeedForwardNetwork\n",
        "# 1.1 Structure (Architecture) of NN\n",
        "model_net3 = torch.nn.Sequential(torch.nn.Linear(784, 128),\n",
        "                                 torch.nn.ReLU(),\n",
        "                                 torch.nn.Dropout(0.10),\n",
        "\n",
        "                                 torch.nn.Linear(128, 64),\n",
        "                                 torch.nn.Linear(64, 10)\n",
        "                                )\n",
        "\n",
        "# 1.2 Loss Function\n",
        "loss_CEL = nn.CrossEntropyLoss()\n",
        "\n",
        "# 1.3 Optimization Approach\n",
        "optimizer = torch.optim.SGD(model_net3.parameters(), lr=learning_rate)\n",
        "\n",
        "\n",
        "# Loop over the number of epochs\n",
        "for epoch in tqdm_notebook(range(epochs), desc=\"Epochs\"):\n",
        "    epoch_loss = 0.0\n",
        "\n",
        "    # Loop over each sample in the dataset\n",
        "    for i in range(X_train_tensor.size(0)):\n",
        "\n",
        "      #2. Forward Pass\n",
        "      output = model_net3(X_train_tensor[i].unsqueeze(0))\n",
        "\n",
        "      # 3. FeedForward Evaluation\n",
        "      loss = loss_CEL(output, y_train_tensor[i].unsqueeze(0))\n",
        "      optimizer.zero_grad()\n",
        "\n",
        "      # 4. Backward Pass / Gradient Calculation\n",
        "      loss.backward()\n",
        "\n",
        "      # Store the loss for each epoch\n",
        "      epoch_loss += loss.item()\n",
        "\n",
        "      # 5. Back Propagation / Update Weights\n",
        "      optimizer.step()\n",
        "\n",
        "    # Calculate and display average loss for the epoch\n",
        "    epoch_loss /= X_train_tensor.size(0)\n",
        "\n",
        "    # Store the loss for each sample of data\n",
        "    loss_set[epoch] = epoch_loss\n",
        "    print(f\"\\nEpoch {epoch+1} Average Loss: {epoch_loss:.4f}\\n{'-'*50}\\n\")"
      ],
      "metadata": {
        "colab": {
          "base_uri": "https://localhost:8080/",
          "height": 780,
          "referenced_widgets": [
            "9db9701e516f41eda6eedaf33ccb46a3",
            "df332d6adfeb4f1f8e538676dd926bd7",
            "b4ceb8c6c0e64155a64a50e7ba219a6a",
            "4627c7a8d08b4575a9a1147791cc1e06",
            "6c7e05f8aa824d0a824a6bf3c7d3a82d",
            "ddd73333530845afbd22f41a9a0ea2a5",
            "73295a7f6550419ebb70cfd08957eb06",
            "667dc5fa394f4a299eb536c125bb98cc",
            "82af16abc1dd4d5982eae29c6e4f0c8d",
            "9dfbaa9ce02b4950b8b88e8da4caa9bb",
            "a7568f32203d4ba18fcce4da00b0811c"
          ]
        },
        "id": "xa1KIlYn4aUL",
        "outputId": "64bf93e0-510c-4df2-a723-1243f957a459"
      },
      "execution_count": 20,
      "outputs": [
        {
          "output_type": "stream",
          "name": "stderr",
          "text": [
            "<ipython-input-20-43de4065a822>:26: TqdmDeprecationWarning: This function will be removed in tqdm==5.0.0\n",
            "Please use `tqdm.notebook.tqdm` instead of `tqdm.tqdm_notebook`\n",
            "  for epoch in tqdm_notebook(range(epochs), desc=\"Epochs\"):\n"
          ]
        },
        {
          "output_type": "display_data",
          "data": {
            "text/plain": [
              "Epochs:   0%|          | 0/10 [00:00<?, ?it/s]"
            ],
            "application/vnd.jupyter.widget-view+json": {
              "version_major": 2,
              "version_minor": 0,
              "model_id": "9db9701e516f41eda6eedaf33ccb46a3"
            }
          },
          "metadata": {}
        },
        {
          "output_type": "stream",
          "name": "stdout",
          "text": [
            "\n",
            "Epoch 1 Average Loss: 0.9538\n",
            "--------------------------------------------------\n",
            "\n",
            "\n",
            "Epoch 2 Average Loss: 1.0133\n",
            "--------------------------------------------------\n",
            "\n",
            "\n",
            "Epoch 3 Average Loss: 1.5582\n",
            "--------------------------------------------------\n",
            "\n",
            "\n",
            "Epoch 4 Average Loss: 1.5310\n",
            "--------------------------------------------------\n",
            "\n",
            "\n",
            "Epoch 5 Average Loss: 1.9068\n",
            "--------------------------------------------------\n",
            "\n",
            "\n",
            "Epoch 6 Average Loss: 1.6234\n",
            "--------------------------------------------------\n",
            "\n",
            "\n",
            "Epoch 7 Average Loss: 1.5214\n",
            "--------------------------------------------------\n",
            "\n",
            "\n",
            "Epoch 8 Average Loss: 1.5442\n",
            "--------------------------------------------------\n",
            "\n",
            "\n",
            "Epoch 9 Average Loss: 1.9552\n",
            "--------------------------------------------------\n",
            "\n",
            "\n",
            "Epoch 10 Average Loss: 1.8936\n",
            "--------------------------------------------------\n",
            "\n"
          ]
        }
      ]
    },
    {
      "cell_type": "markdown",
      "source": [
        "# Evaluating the model"
      ],
      "metadata": {
        "id": "5AvDKVhDrl_l"
      }
    },
    {
      "cell_type": "code",
      "source": [
        "#Save the trained model\n",
        "torch.save(model_net3, 'model_net3.pkl')"
      ],
      "metadata": {
        "id": "Qfo4VJkrruYQ"
      },
      "execution_count": 21,
      "outputs": []
    },
    {
      "cell_type": "code",
      "source": [
        "#Lets load the model for inference\n",
        "model_net3_trained = torch.load('model_net3.pkl')\n",
        "\n",
        "#Set the Model to Evaluation Mode\n",
        "model_net3_trained.eval()"
      ],
      "metadata": {
        "id": "CZv5EI1Ur4DY",
        "colab": {
          "base_uri": "https://localhost:8080/"
        },
        "outputId": "834c24c8-08b8-4359-ab0a-5855da5bf1ae"
      },
      "execution_count": 22,
      "outputs": [
        {
          "output_type": "execute_result",
          "data": {
            "text/plain": [
              "Sequential(\n",
              "  (0): Linear(in_features=784, out_features=128, bias=True)\n",
              "  (1): ReLU()\n",
              "  (2): Dropout(p=0.1, inplace=False)\n",
              "  (3): Linear(in_features=128, out_features=64, bias=True)\n",
              "  (4): Linear(in_features=64, out_features=10, bias=True)\n",
              ")"
            ]
          },
          "metadata": {},
          "execution_count": 22
        }
      ]
    },
    {
      "cell_type": "code",
      "source": [
        "#Initialize a variable to store the total loss\n",
        "total_loss = 0.0\n",
        "\n",
        "#Initialize a variable to store all the predictions\n",
        "all_predictions = []\n",
        "\n",
        "#Loop over each sample in the test dataset\n",
        "for i in range(X_test_tensor.size(0)):\n",
        "\n",
        "    #Forward pass: compute predicted y by passing x to the model\n",
        "    output = model_net3(X_test_tensor[i].reshape(-1, 784))\n",
        "\n",
        "    #Compute and print loss\n",
        "    loss = loss_CEL(output, y_test_tensor[i].unsqueeze(0))\n",
        "    total_loss += loss.item()\n",
        "\n",
        "    #Store the predictions\n",
        "    all_predictions.append(output.detach().numpy())\n",
        "\n",
        "#Calculate the average loss over all test samples\n",
        "average_loss = total_loss / X_test_tensor.size(0)\n",
        "print(f'Average Loss on Test Set: {average_loss:.4f}')\n",
        "\n",
        "#Convert all_predictions to a tensor for further calculations\n",
        "all_predictions_tensor = torch.tensor(all_predictions).squeeze()"
      ],
      "metadata": {
        "id": "fd6STSUfr9QG",
        "colab": {
          "base_uri": "https://localhost:8080/"
        },
        "outputId": "a5cb9afe-f2ff-40d1-c003-05cdf6cceb7d"
      },
      "execution_count": 23,
      "outputs": [
        {
          "output_type": "stream",
          "name": "stdout",
          "text": [
            "Average Loss on Test Set: 2.3455\n"
          ]
        }
      ]
    },
    {
      "cell_type": "markdown",
      "source": [
        "# Hyperparameters"
      ],
      "metadata": {
        "id": "ifXXzmNHkFXj"
      }
    },
    {
      "cell_type": "code",
      "source": [
        "#Initializing Hyperparameters and added Dataloader for better and faster processing\n",
        "epochs = 10\n",
        "learning_rate = 0.05\n",
        "batch_size = 64\n",
        "\n",
        "# Dataset and DataLoader setup\n",
        "train_dataset = TensorDataset(X_train_tensor, y_train_tensor)\n",
        "train_loader = DataLoader(dataset=train_dataset, batch_size=batch_size, shuffle=True)\n",
        "\n",
        "# 1. Creating a FeedForwardNetwork\n",
        "# 1.1 Structure (Architecture) of NN\n",
        "model_net4 = torch.nn.Sequential(torch.nn.Linear(784, 128),\n",
        "                                 torch.nn.ReLU(),\n",
        "                                 torch.nn.Dropout(0.10),\n",
        "\n",
        "                                 torch.nn.Linear(128, 64),\n",
        "                                 torch.nn.Linear(64, 10)\n",
        "                                )\n",
        "\n",
        "# 1.2 Loss Function\n",
        "loss_CEL = nn.CrossEntropyLoss()\n",
        "\n",
        "# 1.3 Optimization Approach\n",
        "optimizer = torch.optim.SGD(model_net4.parameters(), lr=learning_rate)\n",
        "\n",
        "# Record of loss for each epoch\n",
        "loss_set = {}\n",
        "\n",
        "# Training loop\n",
        "for epoch in tqdm(range(epochs), desc=\"Epochs\"):\n",
        "    epoch_loss = 0.0\n",
        "\n",
        "    for inputs, labels in train_loader:\n",
        "        # Forward pass\n",
        "        output = model_net4(inputs)\n",
        "\n",
        "        # Loss calculation\n",
        "        loss = loss_CEL(output, labels)\n",
        "\n",
        "        # Backward pass and optimization\n",
        "        optimizer.zero_grad()\n",
        "        loss.backward()\n",
        "        optimizer.step()\n",
        "\n",
        "        epoch_loss += loss.item() * inputs.size(0)\n",
        "\n",
        "    # Calculate and display average loss for the epoch\n",
        "        epoch_loss /= len(train_loader.dataset)\n",
        "\n",
        "    # Store the loss for each epoch\n",
        "    loss_set[epoch] = epoch_loss\n",
        "    print(f\"\\nEpoch {epoch+1} Average Loss: {epoch_loss:.4f}\\n{'-'*50}\\n\")\n"
      ],
      "metadata": {
        "id": "Z4SXFkUbkBDY",
        "colab": {
          "base_uri": "https://localhost:8080/",
          "height": 729,
          "referenced_widgets": [
            "c263118628d6410b9c56e0792eb5c2e9",
            "4969d27ff9904383a045403d9e327a0c",
            "f5e29f5472c74c6dba7a5a7012d9ea95",
            "0304df7e7c7b434ba5804cd28e3f5aef",
            "3193232cc57f44448f7d26b434ecc0ae",
            "44be3cd47e644cf38f6abcf7b97489a4",
            "7737899a020940b5974fea3669a2ab76",
            "f528fe3191804808ab0bfdb23266e4b8",
            "adb01cae0da84a609412ca8f9fe5d0f5",
            "c9b72934520c468487693f539eebd3fa",
            "0f770d0f20d14f46916199dd97375749"
          ]
        },
        "outputId": "eebf822e-f1bc-4a1a-85b9-8c00a9081190"
      },
      "execution_count": 24,
      "outputs": [
        {
          "output_type": "display_data",
          "data": {
            "text/plain": [
              "Epochs:   0%|          | 0/10 [00:00<?, ?it/s]"
            ],
            "application/vnd.jupyter.widget-view+json": {
              "version_major": 2,
              "version_minor": 0,
              "model_id": "c263118628d6410b9c56e0792eb5c2e9"
            }
          },
          "metadata": {}
        },
        {
          "output_type": "stream",
          "name": "stdout",
          "text": [
            "\n",
            "Epoch 1 Average Loss: 0.0005\n",
            "--------------------------------------------------\n",
            "\n",
            "\n",
            "Epoch 2 Average Loss: 0.0004\n",
            "--------------------------------------------------\n",
            "\n",
            "\n",
            "Epoch 3 Average Loss: 0.0002\n",
            "--------------------------------------------------\n",
            "\n",
            "\n",
            "Epoch 4 Average Loss: 0.0002\n",
            "--------------------------------------------------\n",
            "\n",
            "\n",
            "Epoch 5 Average Loss: 0.0002\n",
            "--------------------------------------------------\n",
            "\n",
            "\n",
            "Epoch 6 Average Loss: 0.0002\n",
            "--------------------------------------------------\n",
            "\n",
            "\n",
            "Epoch 7 Average Loss: 0.0002\n",
            "--------------------------------------------------\n",
            "\n",
            "\n",
            "Epoch 8 Average Loss: 0.0001\n",
            "--------------------------------------------------\n",
            "\n",
            "\n",
            "Epoch 9 Average Loss: 0.0001\n",
            "--------------------------------------------------\n",
            "\n",
            "\n",
            "Epoch 10 Average Loss: 0.0000\n",
            "--------------------------------------------------\n",
            "\n"
          ]
        }
      ]
    },
    {
      "cell_type": "markdown",
      "source": [
        "# Evaluation after finetuning"
      ],
      "metadata": {
        "id": "VmtUOtfe4wSZ"
      }
    },
    {
      "cell_type": "code",
      "source": [
        "#Save the trained model\n",
        "torch.save(model_net4, 'model_net4.pkl')"
      ],
      "metadata": {
        "id": "DxtzAWGu4zRD"
      },
      "execution_count": 25,
      "outputs": []
    },
    {
      "cell_type": "code",
      "source": [
        "#Lets load the model for inference\n",
        "model_net4_trained = torch.load('model_net4.pkl')\n",
        "\n",
        "#Set the Model to Evaluation Mode\n",
        "model_net4_trained.eval()"
      ],
      "metadata": {
        "colab": {
          "base_uri": "https://localhost:8080/"
        },
        "id": "dvBFLPYB40QR",
        "outputId": "39c0f123-bf33-48df-8927-ba86129d65a4"
      },
      "execution_count": 26,
      "outputs": [
        {
          "output_type": "execute_result",
          "data": {
            "text/plain": [
              "Sequential(\n",
              "  (0): Linear(in_features=784, out_features=128, bias=True)\n",
              "  (1): ReLU()\n",
              "  (2): Dropout(p=0.1, inplace=False)\n",
              "  (3): Linear(in_features=128, out_features=64, bias=True)\n",
              "  (4): Linear(in_features=64, out_features=10, bias=True)\n",
              ")"
            ]
          },
          "metadata": {},
          "execution_count": 26
        }
      ]
    },
    {
      "cell_type": "code",
      "source": [
        "#Initialize a variable to store the total loss\n",
        "total_loss = 0.0\n",
        "\n",
        "#Initialize a variable to store all the predictions\n",
        "all_predictions1 = []\n",
        "\n",
        "#Loop over each sample in the test dataset\n",
        "for i in range(X_test_tensor.size(0)):\n",
        "\n",
        "    #Forward pass: compute predicted y by passing x to the model\n",
        "    output = model_net4(X_test_tensor[i].reshape(-1, 784))\n",
        "\n",
        "    #Compute and print loss\n",
        "    loss = loss_CEL(output, y_test_tensor[i].unsqueeze(0))\n",
        "    total_loss += loss.item()\n",
        "\n",
        "    #Store the predictions\n",
        "    all_predictions1.append(output.detach().numpy())\n",
        "\n",
        "#Calculate the average loss over all test samples\n",
        "average_loss = total_loss / X_test_tensor.size(0)\n",
        "print(f'Average Loss on Test Set: {average_loss:.4f}')\n",
        "\n",
        "#Convert all_predictions to a tensor for further calculations\n",
        "all_predictions_tensor1 = torch.tensor(all_predictions1).squeeze()"
      ],
      "metadata": {
        "colab": {
          "base_uri": "https://localhost:8080/"
        },
        "id": "L19Nvp5Z45se",
        "outputId": "2d48c032-07fd-4f3e-8fab-0584cb6a9f75"
      },
      "execution_count": 28,
      "outputs": [
        {
          "output_type": "stream",
          "name": "stdout",
          "text": [
            "Average Loss on Test Set: 0.0979\n"
          ]
        }
      ]
    },
    {
      "cell_type": "code",
      "source": [
        "def plot_confusion_matrix(cm, classes, normalize=False, title='Confusion matrix', cmap=plt.cm.Blues):\n",
        "    \"\"\"\n",
        "    This function prints and plots the confusion matrix.\n",
        "    Normalization can be applied by setting `normalize=True`.\n",
        "    \"\"\"\n",
        "    if normalize:\n",
        "        cm = cm.astype('float') / cm.sum(axis=1)[:, np.newaxis]\n",
        "        print(\"Normalized confusion matrix\")\n",
        "    else:\n",
        "        print('Confusion matrix, without normalization')\n",
        "\n",
        "    print(cm)\n",
        "\n",
        "    plt.imshow(cm, interpolation='nearest', cmap=cmap)\n",
        "    plt.title(title)\n",
        "    plt.colorbar()\n",
        "    tick_marks = np.arange(len(classes))\n",
        "    plt.xticks(tick_marks, classes, rotation=45)\n",
        "    plt.yticks(tick_marks, classes)\n",
        "\n",
        "    fmt = '.2f' if normalize else 'd'\n",
        "    thresh = cm.max() / 2.\n",
        "    for i, j in itertools.product(range(cm.shape[0]), range(cm.shape[1])):\n",
        "        plt.text(j, i, format(cm[i, j], fmt),\n",
        "                 horizontalalignment=\"center\",\n",
        "                 color=\"white\" if cm[i, j] > thresh else \"black\")\n",
        "\n",
        "    plt.ylabel('True label')\n",
        "    plt.xlabel('Predicted label')\n",
        "    plt.tight_layout()\n"
      ],
      "metadata": {
        "id": "O1cHJ1Lp2od0"
      },
      "execution_count": 29,
      "outputs": []
    },
    {
      "cell_type": "code",
      "source": [
        "# Convert softmax output to class labels\n",
        "predicted_labels = torch.argmax(all_predictions_tensor1, dim=1)"
      ],
      "metadata": {
        "id": "794q5P9q4CY_"
      },
      "execution_count": 30,
      "outputs": []
    },
    {
      "cell_type": "code",
      "source": [
        "# Ensure y_test_tensor is a flat 1D tensor of class labels if it's not already\n",
        "y_test_labels = y_test_tensor.numpy()\n",
        "\n",
        "# Calculate confusion matrix\n",
        "cm = confusion_matrix(y_test_labels, predicted_labels.numpy())\n",
        "\n",
        "# Plot confusion matrix\n",
        "plot_confusion_matrix(cm, classes=[str(i) for i in range(10)], title='Confusion Matrix')\n",
        "plt.show()"
      ],
      "metadata": {
        "id": "0yJ3_452z5vA",
        "colab": {
          "base_uri": "https://localhost:8080/",
          "height": 674
        },
        "outputId": "ac2391c8-7299-461c-bcbb-4d7197aefe40"
      },
      "execution_count": 31,
      "outputs": [
        {
          "output_type": "stream",
          "name": "stdout",
          "text": [
            "Confusion matrix, without normalization\n",
            "[[ 960    0    0    2    1    0    7    3    2    5]\n",
            " [   0 1121    2    2    0    1    4    0    5    0]\n",
            " [   9    4  989    7    4    0    5    5    9    0]\n",
            " [   1    0    3  994    0    3    0    5    3    1]\n",
            " [   2    0    4    0  959    0    3    2    0   12]\n",
            " [   2    1    1   14    2  859    7    1    1    4]\n",
            " [   5    3    0    0    4    6  938    0    2    0]\n",
            " [   0    8   12    4    1    0    0  994    0    9]\n",
            " [   4    0    4   11    5    5    6    4  932    3]\n",
            " [   4    3    0    8   14    5    1    9    4  961]]\n"
          ]
        },
        {
          "output_type": "display_data",
          "data": {
            "text/plain": [
              "<Figure size 640x480 with 2 Axes>"
            ],
            "image/png": "[encoded data removed]"
          },
          "metadata": {}
        }
      ]
    },
    {
      "cell_type": "code",
      "source": [
        "# Sum of diagonal elements (True Positives for all classes)\n",
        "correct_predictions = np.trace(cm)\n",
        "\n",
        "# Total number of instances\n",
        "total_predictions = np.sum(cm)\n",
        "\n",
        "# Overall accuracy\n",
        "accuracy = correct_predictions / total_predictions"
      ],
      "metadata": {
        "id": "rvoXMWS66Zno"
      },
      "execution_count": 32,
      "outputs": []
    },
    {
      "cell_type": "code",
      "source": [
        "# Print the parameters of all layers\n",
        "for name, param in model_net4_trained.named_parameters():\n",
        "    print(f\"Layer: {name}\")\n",
        "    print(f\"Size: {param.size()}\")\n",
        "    print(f\"Values: \\n{param.data}\\n\")"
      ],
      "metadata": {
        "colab": {
          "base_uri": "https://localhost:8080/"
        },
        "id": "7uw5yrUn69DL",
        "outputId": "ee9a3466-15c6-497e-e9ad-fd85b3ebf24d"
      },
      "execution_count": 33,
      "outputs": [
        {
          "output_type": "stream",
          "name": "stdout",
          "text": [
            "Layer: 0.weight\n",
            "Size: torch.Size([128, 784])\n",
            "Values: \n",
            "tensor([[-0.0314, -0.0213, -0.0330,  ..., -0.0093, -0.0356,  0.0292],\n",
            "        [-0.0094,  0.0315,  0.0093,  ..., -0.0204,  0.0089,  0.0098],\n",
            "        [ 0.0338, -0.0285,  0.0263,  ...,  0.0301,  0.0173,  0.0256],\n",
            "        ...,\n",
            "        [ 0.0239, -0.0125,  0.0150,  ..., -0.0174,  0.0042, -0.0005],\n",
            "        [-0.0021, -0.0302, -0.0316,  ...,  0.0096, -0.0264,  0.0300],\n",
            "        [-0.0244,  0.0128, -0.0091,  ...,  0.0341, -0.0156, -0.0106]])\n",
            "\n",
            "Layer: 0.bias\n",
            "Size: torch.Size([128])\n",
            "Values: \n",
            "tensor([ 0.0206,  0.1250,  0.0632, -0.0080,  0.0395,  0.0814, -0.0222,  0.0994,\n",
            "         0.0204,  0.0200,  0.0135,  0.0609,  0.0013,  0.0421,  0.0243,  0.1505,\n",
            "        -0.0199,  0.0075, -0.0392,  0.0347, -0.0166, -0.0661, -0.0129, -0.0626,\n",
            "         0.0318, -0.0659, -0.0279, -0.0808,  0.0080,  0.0451, -0.0079,  0.0166,\n",
            "         0.0307, -0.0604,  0.0111,  0.0378,  0.0373,  0.0613,  0.0351,  0.1292,\n",
            "         0.0559, -0.0389,  0.0263,  0.0398,  0.0527, -0.0499,  0.1273,  0.0180,\n",
            "         0.0209,  0.0826,  0.0349, -0.0148,  0.0317, -0.0098,  0.0348,  0.0276,\n",
            "        -0.0088,  0.0146, -0.1152,  0.0950, -0.0297,  0.0365,  0.0440, -0.0739,\n",
            "        -0.0504, -0.0078, -0.0078, -0.0063, -0.0461, -0.0266, -0.1290, -0.0132,\n",
            "         0.0473, -0.0686,  0.0861, -0.0546,  0.0949,  0.0406, -0.0424,  0.0148,\n",
            "        -0.0094,  0.0016,  0.0691, -0.0158,  0.1290,  0.0076,  0.0066,  0.0905,\n",
            "         0.0465,  0.0665,  0.0961, -0.0256, -0.0381, -0.0702,  0.0134, -0.0471,\n",
            "         0.0123,  0.0281, -0.0822, -0.0307, -0.0429,  0.0495,  0.0126,  0.0141,\n",
            "        -0.0116,  0.0007, -0.1058, -0.0720,  0.0303, -0.0321, -0.0035,  0.0643,\n",
            "         0.0492,  0.0276,  0.1269, -0.0004,  0.1159,  0.1047, -0.0188,  0.0576,\n",
            "        -0.0182,  0.0211, -0.0860,  0.0111,  0.0345,  0.0817,  0.0258,  0.1491])\n",
            "\n",
            "Layer: 3.weight\n",
            "Size: torch.Size([64, 128])\n",
            "Values: \n",
            "tensor([[ 0.0481, -0.1144, -0.0542,  ..., -0.1324, -0.0216,  0.0906],\n",
            "        [ 0.0213,  0.1634, -0.0256,  ...,  0.0937,  0.2529,  0.1494],\n",
            "        [-0.0207,  0.0516, -0.0848,  ..., -0.1024,  0.0032, -0.0295],\n",
            "        ...,\n",
            "        [ 0.0162, -0.0279, -0.0694,  ...,  0.2054, -0.0964, -0.0207],\n",
            "        [-0.0434,  0.0283, -0.0410,  ..., -0.0970,  0.0699,  0.0603],\n",
            "        [-0.0585, -0.0332,  0.0253,  ...,  0.1344,  0.1016,  0.1042]])\n",
            "\n",
            "Layer: 3.bias\n",
            "Size: torch.Size([64])\n",
            "Values: \n",
            "tensor([ 0.0239,  0.0809, -0.0416, -0.0540, -0.0248, -0.0333,  0.0775,  0.0201,\n",
            "         0.0165,  0.0010, -0.0073, -0.0479,  0.1032, -0.0851, -0.0284,  0.0965,\n",
            "         0.0162, -0.0200, -0.0201, -0.0987,  0.0720, -0.0318, -0.1171,  0.1037,\n",
            "        -0.0394, -0.0256,  0.0737,  0.0570, -0.1648,  0.0334, -0.0796, -0.0399,\n",
            "         0.0607,  0.0446,  0.1394,  0.0406,  0.0508, -0.0435, -0.0233,  0.0316,\n",
            "         0.0365,  0.0228, -0.0800, -0.0262, -0.0047,  0.0939,  0.0245,  0.0100,\n",
            "        -0.0497,  0.0673,  0.1021,  0.0400,  0.0578,  0.1182,  0.0662, -0.0207,\n",
            "        -0.0515,  0.0011,  0.0275, -0.0365,  0.0662,  0.0333, -0.0278, -0.0548])\n",
            "\n",
            "Layer: 4.weight\n",
            "Size: torch.Size([10, 64])\n",
            "Values: \n",
            "tensor([[ 0.3379, -0.0666,  0.0826,  0.2797, -0.0473,  0.0990, -0.4082, -0.2356,\n",
            "         -0.1868, -0.1788,  0.0379,  0.0567, -0.4233,  0.3390, -0.3713, -0.4285,\n",
            "          0.1745, -0.0554,  0.0994, -0.0751,  0.2540, -0.0868,  0.4487, -0.4563,\n",
            "          0.0503, -0.3883, -0.1988, -0.0729,  0.0879,  0.1903,  0.4403,  0.4410,\n",
            "         -0.0063, -0.3921, -0.3922,  0.2082, -0.4021,  0.1419,  0.1177, -0.1591,\n",
            "          0.0970,  0.0741, -0.2852, -0.1543,  0.3808, -0.1325,  0.2813, -0.1888,\n",
            "         -0.1112,  0.0447, -0.1807,  0.2359,  0.4173, -0.3354,  0.1847,  0.2806,\n",
            "         -0.2274,  0.1185, -0.2961,  0.2386, -0.1691, -0.3324,  0.1170, -0.0807],\n",
            "        [-0.1584,  0.3473,  0.3261, -0.1826, -0.0898,  0.2050, -0.0552,  0.0910,\n",
            "          0.3086,  0.2518, -0.0800, -0.2301,  0.2390, -0.0086,  0.3856,  0.3871,\n",
            "         -0.0281, -0.1533,  0.2350, -0.3511, -0.2779, -0.1560, -0.1362,  0.4908,\n",
            "         -0.0509,  0.1136, -0.2417,  0.3444,  0.2598,  0.0536, -0.4665, -0.5781,\n",
            "          0.3619, -0.1528, -0.1303,  0.0179,  0.5686, -0.1715,  0.2014, -0.1200,\n",
            "         -0.4441, -0.5401,  0.0356,  0.2981, -0.1105, -0.1129,  0.0942, -0.2858,\n",
            "         -0.2493, -0.1216,  0.1113, -0.0779, -0.1039,  0.4650, -0.2830, -0.0246,\n",
            "         -0.4143, -0.0304,  0.0864, -0.5103, -0.1129,  0.0539,  0.0859,  0.0090],\n",
            "        [ 0.2801, -0.3156,  0.0855,  0.1540,  0.0722, -0.4012,  0.5690, -0.4509,\n",
            "          0.1746, -0.3359,  0.0045,  0.4094, -0.3268, -0.0158, -0.3441,  0.0747,\n",
            "         -0.4090,  0.2184,  0.3121,  0.1205, -0.1173, -0.2843, -0.1483, -0.2341,\n",
            "         -0.3244, -0.1994, -0.2182, -0.1839,  0.5181,  0.2006,  0.5393, -0.5242,\n",
            "         -0.1201, -0.3130, -0.3082,  0.2445,  0.0464, -0.3430, -0.1820, -0.1647,\n",
            "         -0.1897, -0.1700,  0.0739,  0.3712,  0.0239, -0.2547, -0.6831, -0.2175,\n",
            "          0.1903, -0.3372, -0.1431, -0.3780, -0.1453,  0.0110,  0.1339, -0.0083,\n",
            "          0.1314,  0.0778,  0.5822,  0.1946,  0.0642, -0.0135,  0.0845, -0.0032],\n",
            "        [ 0.0240, -0.2822,  0.0433, -0.1880, -0.0241, -0.2560, -0.2346,  0.1059,\n",
            "          0.1557,  0.3199,  0.0202,  0.3426,  0.3368, -0.1857, -0.1124, -0.0505,\n",
            "         -0.4067,  0.1453,  0.3055,  0.2405, -0.1637,  0.1081,  0.3673,  0.1432,\n",
            "         -0.2349,  0.3878,  0.1805, -0.0610,  0.3568, -0.2312, -0.6203, -0.0567,\n",
            "         -0.2194,  0.1280, -0.2845, -0.0179, -0.0009,  0.2368, -0.3927,  0.2501,\n",
            "          0.0308, -0.1169,  0.6544, -0.2545,  0.3494, -0.0014, -0.6936,  0.0115,\n",
            "         -0.1194,  0.2574, -0.2235,  0.2091,  0.1401, -0.0600, -0.1032,  0.0885,\n",
            "          0.3470,  0.5068, -0.1179, -0.1482, -0.0623,  0.3275, -0.2078,  0.0088],\n",
            "        [-0.3750,  0.0779, -0.2733, -0.0380, -0.5786,  0.2614,  0.3831,  0.2790,\n",
            "         -0.2534,  0.2336, -0.1843,  0.1243, -0.1615, -0.4146, -0.2052,  0.1891,\n",
            "          0.2480, -0.2253,  0.2022, -0.2969,  0.3022, -0.0460, -0.5838,  0.3736,\n",
            "          0.1300, -0.0646, -0.3717,  0.0721, -0.0140,  0.3687,  0.0798,  0.2365,\n",
            "         -0.2899,  0.1768,  0.4501, -0.3890,  0.0201, -0.2687, -0.0483,  0.0208,\n",
            "         -0.4481,  0.0919, -0.6149, -0.1348, -0.2122,  0.2733,  0.5752,  0.4339,\n",
            "          0.3990,  0.0725,  0.5515,  0.2034, -0.3287,  0.0182, -0.3656,  0.0684,\n",
            "          0.1797, -0.2025, -0.3036,  0.2761,  0.2762,  0.2907, -0.3850, -0.0213],\n",
            "        [ 0.1646,  0.1674,  0.0963,  0.0368,  0.4846, -0.5593, -0.3748,  0.1742,\n",
            "         -0.2152, -0.4272, -0.4058, -0.5362,  0.5979,  0.1644, -0.2811,  0.0480,\n",
            "          0.2172, -0.1126, -0.0617, -0.3501,  0.3163, -0.1313,  0.0276, -0.1322,\n",
            "         -0.1385,  0.0804,  0.4349,  0.1089, -0.5966, -0.3333, -0.4430,  0.4610,\n",
            "          0.1579,  0.1138, -0.0956, -0.1494,  0.3258,  0.1505, -0.0619, -0.0803,\n",
            "          0.1251,  0.3995,  0.2556, -0.1709,  0.4622,  0.4028,  0.2133,  0.1773,\n",
            "         -0.1764, -0.1441, -0.2031, -0.2315, -0.3937,  0.1322,  0.1515, -0.5333,\n",
            "          0.2392, -0.4153,  0.0499,  0.3396, -0.4603, -0.2220, -0.0669,  0.2002],\n",
            "        [-0.1317,  0.2970,  0.5069,  0.3519, -0.3604,  0.1302, -0.3385,  0.2020,\n",
            "          0.1932, -0.1502,  0.3886,  0.0105,  0.2029, -0.1922, -0.0679, -0.6124,\n",
            "          0.4255, -0.2972, -0.1534, -0.5579, -0.1027,  0.2775, -0.2897, -0.1735,\n",
            "         -0.3567, -0.2196, -0.0078, -0.1970, -0.5535,  0.1960,  0.4526, -0.0848,\n",
            "         -0.2532, -0.2123,  0.0143,  0.3838, -0.2488, -0.0237,  0.0262, -0.0952,\n",
            "         -0.1651,  0.0141, -0.3959,  0.1814, -0.3289,  0.1033,  0.4673,  0.4033,\n",
            "         -0.1868, -0.1588, -0.3361, -0.3884, -0.1483, -0.2054,  0.1968,  0.3969,\n",
            "         -0.2783, -0.1066,  0.2507, -0.1118,  0.0434, -0.0170,  0.2867, -0.0974],\n",
            "        [-0.0627,  0.2624, -0.4494, -0.4386,  0.0159,  0.0181,  0.5896, -0.1543,\n",
            "          0.2245, -0.1134, -0.4362,  0.3140, -0.3770,  0.4124,  0.3792,  0.2289,\n",
            "         -0.3141,  0.1927,  0.1204, -0.2029, -0.2731, -0.2679,  0.1569,  0.2214,\n",
            "          0.0053,  0.2074, -0.0009,  0.2603,  0.4521,  0.0467,  0.1138, -0.2604,\n",
            "          0.2925,  0.4222,  0.1464,  0.0494, -0.2794, -0.1725,  0.4367, -0.3629,\n",
            "         -0.0490,  0.2700,  0.2610,  0.1529, -0.0818,  0.1888,  0.2397, -0.3304,\n",
            "         -0.1465,  0.2487,  0.1479,  0.4061,  0.3975, -0.0694,  0.0541, -0.1310,\n",
            "         -0.3987, -0.0168,  0.2480,  0.3996,  0.4876, -0.1459,  0.3423, -0.0076],\n",
            "        [-0.0695, -0.3870, -0.1277,  0.3215,  0.3052,  0.3348,  0.0471,  0.0013,\n",
            "         -0.1283, -0.0582,  0.0738, -0.4135,  0.1326, -0.1246,  0.3829, -0.0920,\n",
            "          0.1548,  0.1568, -0.0723,  0.4573,  0.5136, -0.0105, -0.0933, -0.0120,\n",
            "          0.5136,  0.2128,  0.0825, -0.2829, -0.3590, -0.0013,  0.2267,  0.0921,\n",
            "          0.2347, -0.1521,  0.3706, -0.2366, -0.2333,  0.3459, -0.4760, -0.1019,\n",
            "          0.4871, -0.1781,  0.0523, -0.2791, -0.2845, -0.5162, -0.3050, -0.3274,\n",
            "          0.1587, -0.5239,  0.3591, -0.2709, -0.3427,  0.0609, -0.2639,  0.3475,\n",
            "          0.2824,  0.3007,  0.0717, -0.2541,  0.0885, -0.2368,  0.1108, -0.1059],\n",
            "        [-0.2834, -0.2376, -0.2501,  0.1624,  0.1522,  0.3538, -0.1836,  0.1243,\n",
            "         -0.3046,  0.2021,  0.1491,  0.0364, -0.4399,  0.0368,  0.1260,  0.3452,\n",
            "          0.1699,  0.4192, -0.4387,  0.7778, -0.3166,  0.2230, -0.1795, -0.2283,\n",
            "          0.2581, -0.1219,  0.2704,  0.2309, -0.0230, -0.5120, -0.1134,  0.1199,\n",
            "         -0.2100,  0.5597,  0.4664, -0.1828,  0.1076,  0.2326,  0.2807,  0.3161,\n",
            "          0.3337,  0.1337, -0.2328,  0.1224, -0.3690,  0.3260,  0.2055,  0.0392,\n",
            "          0.1655,  0.4819, -0.1367,  0.4188,  0.2548,  0.2226,  0.1761,  0.2906,\n",
            "          0.3175, -0.0130, -0.4943,  0.1129, -0.2536, -0.0118, -0.4778, -0.0637]])\n",
            "\n",
            "Layer: 4.bias\n",
            "Size: torch.Size([10])\n",
            "Values: \n",
            "tensor([-0.1317, -0.0379,  0.0532, -0.0282, -0.0252,  0.2802,  0.0006,  0.0914,\n",
            "        -0.1370,  0.0309])\n",
            "\n"
          ]
        }
      ]
    }
  ]
}

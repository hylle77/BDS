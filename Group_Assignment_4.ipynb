{
  "nbformat": 4,
  "nbformat_minor": 0,
  "metadata": {
    "colab": {
      "provenance": [],
      "authorship_tag": "ABX9TyNo4tAXDVGFq5MR/z47szCP",
      "include_colab_link": true
    },
    "kernelspec": {
      "name": "python3",
      "display_name": "Python 3"
    },
    "language_info": {
      "name": "python"
    }
  },
  "cells": [
    {
      "cell_type": "markdown",
      "metadata": {
        "id": "view-in-github",
        "colab_type": "text"
      },
      "source": [
        "<a href=\"https://colab.research.google.com/github/hylle77/BDS/blob/main/Group_Assignment_4.ipynb\" target=\"_parent\"><img src=\"https://colab.research.google.com/assets/colab-badge.svg\" alt=\"Open In Colab\"/></a>"
      ]
    },
    {
      "cell_type": "markdown",
      "source": [
        "##GROUP ASSIGNMENT 4 - ADVANCED AI APPLICATIONS"
      ],
      "metadata": {
        "id": "ICGayC5jPlHC"
      }
    },
    {
      "cell_type": "markdown",
      "source": [
        "##Necessary imports and installments"
      ],
      "metadata": {
        "id": "i9214iaeQJQs"
      }
    },
    {
      "cell_type": "code",
      "source": [
        "#Installments\n",
        "!pip -q install langchain huggingface_hub google-search-results tiktoken chromadb lark langchain-together sentence_transformers gradio sentence_transformers -qqq\n"
      ],
      "metadata": {
        "id": "wTysWCNmQTl5"
      },
      "execution_count": 6,
      "outputs": []
    },
    {
      "cell_type": "code",
      "source": [
        "#Imports\n",
        "from google.colab import userdata\n",
        "import textwrap\n",
        "import os\n",
        "from langchain.schema import Document\n",
        "from langchain_community.embeddings import HuggingFaceEmbeddings\n",
        "from langchain.vectorstores import Chroma\n",
        "from operator import itemgetter\n",
        "from langchain_core.prompts import ChatPromptTemplate\n",
        "from langchain_core.output_parsers import StrOutputParser\n",
        "from langchain_core.runnables import RunnableLambda, RunnablePassthrough\n",
        "from sentence_transformers import SentenceTransformer\n",
        "from langchain_together import Together\n",
        "from langchain.retrievers.self_query.base import SelfQueryRetriever\n",
        "from langchain.chains.query_constructor.base import AttributeInfo\n",
        "import gradio as gr\n",
        "\n",
        "#Loading Togehter.ai API\n",
        "os.environ[\"TOGETHER_API_KEY\"] = userdata.get('TOGETHER_API_KEY')\n",
        "\n",
        "#Creating Embeddings using Hugginface\n",
        "embeddings = HuggingFaceEmbeddings(model_name=\"sentence-transformers/msmarco-bert-base-dot-v5\")"
      ],
      "metadata": {
        "id": "MDFHdaf5QuMA"
      },
      "execution_count": 24,
      "outputs": []
    },
    {
      "cell_type": "markdown",
      "source": [
        "## Loading the data\n",
        "\n",
        "AI-Generated dataset with metadata attached"
      ],
      "metadata": {
        "id": "SQWSliquPpLg"
      }
    },
    {
      "cell_type": "code",
      "execution_count": 10,
      "metadata": {
        "id": "oXUvkf48O4eg"
      },
      "outputs": [],
      "source": [
        "#Creating a dataset\n",
        "docs = [\n",
        "    Document(\n",
        "        page_content=\"Rich and complex with notes of caramel, chocolate, and a hint of coffee. Balanced bitterness.\",\n",
        "        metadata={\"name\": \"Bourbon County Stout\", \"year\": 2020, \"rating\": 98, \"style\": \"Imperial Stout\", \"ABV\": 14.2, \"IBU\": 60, \"country\": \"USA\", \"price_per_bottle\": 20},\n",
        "    ),\n",
        "    Document(\n",
        "        page_content=\"Bright and citrusy, with a crisp finish. Notes of grapefruit and pine.\",\n",
        "        metadata={\"name\": \"Sculpin IPA\", \"year\": 2021, \"rating\": 95, \"style\": \"IPA\", \"ABV\": 7.0, \"IBU\": 70, \"country\": \"USA\", \"price_per_bottle\": 15},\n",
        "    ),\n",
        "    Document(\n",
        "        page_content=\"Smooth and malty, with layers of toffee and nuts. Subtle hop finish.\",\n",
        "        metadata={\"name\": \"Celebrator Doppelbock\", \"year\": 2021, \"rating\": 97, \"style\": \"Doppelbock\", \"ABV\": 6.7, \"IBU\": 24, \"country\": \"Germany\", \"price_per_bottle\": 12},\n",
        "    ),\n",
        "    Document(\n",
        "        page_content=\"Light and refreshing, with a delicate balance of sweetness and acidity. Notes of apple and pear.\",\n",
        "        metadata={\"name\": \"Weihenstephaner Hefeweissbier\", \"year\": 2021, \"rating\": 96, \"style\": \"Hefeweizen\", \"ABV\": 5.4, \"IBU\": 14, \"country\": \"Germany\", \"price_per_bottle\": 10},\n",
        "    ),\n",
        "    Document(\n",
        "        page_content=\"Dark and intense, with rich fruit flavors and a robust body. Complex aroma of dark fruits and spice.\",\n",
        "        metadata={\"name\": \"Rochefort 10\", \"year\": 2020, \"rating\": 99, \"style\": \"Trappist Quadrupel\", \"ABV\": 11.3, \"IBU\": 27, \"country\": \"Belgium\", \"price_per_bottle\": 18},\n",
        "    ),\n",
        "Document(\n",
        "        page_content=\"Aromatic with a rich hoppy flavor and notes of tropical fruit. Crisp and refreshing.\",\n",
        "        metadata={\"name\": \"Ghost in the Machine\", \"year\": 2021, \"rating\": 97, \"style\": \"Double IPA\", \"ABV\": 8.5, \"IBU\": 70, \"country\": \"USA\", \"price_per_bottle\": 16},\n",
        "    ),\n",
        "    Document(\n",
        "        page_content=\"Full-bodied with a velvety texture and hints of vanilla and bourbon. Warming alcohol finish.\",\n",
        "        metadata={\"name\": \"Dragon's Milk\", \"year\": 2020, \"rating\": 94, \"style\": \"Bourbon Barrel-Aged Stout\", \"ABV\": 11.0, \"IBU\": 31, \"country\": \"USA\", \"price_per_bottle\": 18},\n",
        "    ),\n",
        "    Document(\n",
        "        page_content=\"Bright yellow with a frothy head, offering a spicy coriander and orange peel aroma. Light and zesty.\",\n",
        "        metadata={\"name\": \"Hoegaarden\", \"year\": 2021, \"rating\": 92, \"style\": \"Witbier\", \"ABV\": 4.9, \"IBU\": 15, \"country\": \"Belgium\", \"price_per_bottle\": 9},\n",
        "    ),\n",
        "    Document(\n",
        "        page_content=\"Pours a deep amber with a rich malt profile, balanced by a pronounced hop bitterness. Caramel and floral notes.\",\n",
        "        metadata={\"name\": \"Sierra Nevada Celebration\", \"year\": 2021, \"rating\": 95, \"style\": \"American IPA\", \"ABV\": 6.8, \"IBU\": 65, \"country\": \"USA\", \"price_per_bottle\": 12},\n",
        "    ),\n",
        "    Document(\n",
        "        page_content=\"Dark, roasty flavors with hints of chocolate and coffee. Smooth and creamy with a bitter finish.\",\n",
        "        metadata={\"name\": \"Guinness Draught\", \"year\": 2021, \"rating\": 93, \"style\": \"Irish Dry Stout\", \"ABV\": 4.2, \"IBU\": 45, \"country\": \"Ireland\", \"price_per_bottle\": 8},\n",
        "    ),\n",
        "    Document(\n",
        "        page_content=\"Sour and salty with a lemon tartness and a crisp, dry finish. Refreshing and light.\",\n",
        "        metadata={\"name\": \"Gose Gone Wild\", \"year\": 2020, \"rating\": 96, \"style\": \"Gose\", \"ABV\": 4.3, \"IBU\": 10, \"country\": \"Germany\", \"price_per_bottle\": 14},\n",
        "    ),\n",
        "    Document(\n",
        "        page_content=\"Fruity and spicy with notes of banana and clove. Effervescent and golden, with a sweet, bready malt backbone.\",\n",
        "        metadata={\"name\": \"Paulaner Hefe-Weissbier\", \"year\": 2021, \"rating\": 94, \"style\": \"Hefeweizen\", \"ABV\": 5.5, \"IBU\": 12, \"country\": \"Germany\", \"price_per_bottle\": 11},\n",
        "    ),\n",
        "    Document(\n",
        "        page_content=\"A unique blend of hops gives a floral aroma, with a balanced malt sweetness and a touch of citrus.\",\n",
        "        metadata={\"name\": \"Punk IPA\", \"year\": 2021, \"rating\": 90, \"style\": \"IPA\", \"ABV\": 5.6, \"IBU\": 45, \"country\": \"Scotland\", \"price_per_bottle\": 13},\n",
        "    ),\n",
        "    Document(\n",
        "        page_content=\"Golden and clear with a delicate balance of bitterness and malt sweetness. Crisp finish.\",\n",
        "        metadata={\"name\": \"Pilsner Urquell\", \"year\": 2021, \"rating\": 89, \"style\": \"Pilsner\", \"ABV\": 4.4, \"IBU\": 40, \"country\": \"Czech Republic\", \"price_per_bottle\": 10},\n",
        "    ),\n",
        "    Document(\n",
        "        page_content=\"Deep ruby in color with a complex flavor profile of dark fruits, caramel, and toffee. Warm alcohol notes.\",\n",
        "        metadata={\"name\": \"Old Rasputin\", \"year\": 2020, \"rating\": 98, \"style\": \"Russian Imperial Stout\", \"ABV\": 9.0, \"IBU\": 75, \"country\": \"USA\", \"price_per_bottle\": 12},\n",
        "    )\n",
        "]"
      ]
    },
    {
      "cell_type": "markdown",
      "source": [
        "##Storing the Embeddings in Chroma"
      ],
      "metadata": {
        "id": "uLGD8P-Mguvi"
      }
    },
    {
      "cell_type": "code",
      "source": [
        "#Get the craft beers in the store\n",
        "vectorstore = Chroma.from_documents(docs, embeddings)"
      ],
      "metadata": {
        "id": "Nqyw52xCcQv9"
      },
      "execution_count": 12,
      "outputs": []
    },
    {
      "cell_type": "markdown",
      "source": [
        "## Creating self-querying retriever"
      ],
      "metadata": {
        "id": "MuOpyLP0g5kE"
      }
    },
    {
      "cell_type": "code",
      "source": [
        "#Define metadata schema for the data\n",
        "metadata_field_info = [\n",
        "    AttributeInfo(\n",
        "        name=\"style\",\n",
        "        description=\"The style of the beer\",\n",
        "        type=\"string\",\n",
        "    ),\n",
        "    AttributeInfo(\n",
        "        name=\"name\",\n",
        "        description=\"The name of the beer\",\n",
        "        type=\"string\",\n",
        "    ),\n",
        "    AttributeInfo(\n",
        "        name=\"ABV\",\n",
        "        description=\"Alcohol by Volume, a percentage representing the concentration of alcohol in the beer\",\n",
        "        type=\"float\",\n",
        "    ),\n",
        "    AttributeInfo(\n",
        "        name=\"IBU\",\n",
        "        description=\"International Bitterness Units, a measure of the bitterness of the beer\",\n",
        "        type=\"integer\",\n",
        "    ),\n",
        "    AttributeInfo(\n",
        "        name=\"year\",\n",
        "        description=\"The year the beer was released\",\n",
        "        type=\"integer\",\n",
        "    ),\n",
        "    AttributeInfo(\n",
        "        name=\"country\",\n",
        "        description=\"The name of the country the beer comes from\",\n",
        "        type=\"string\",\n",
        "    ),\n",
        "    AttributeInfo(\n",
        "        name=\"rating\",\n",
        "        description=\"The rating of the beer, typically on a scale from 0 to 100\",\n",
        "        type=\"integer\",\n",
        "    ),\n",
        "    AttributeInfo(\n",
        "        name=\"price_per_bottle\",\n",
        "        description=\"Average price per bottle in EUR\",\n",
        "        type=\"float\",\n",
        "    ),\n",
        "]\n",
        "document_content_description = \"Brief description of the beer\""
      ],
      "metadata": {
        "id": "1Tdfg1E1gI3W"
      },
      "execution_count": 14,
      "outputs": []
    },
    {
      "cell_type": "code",
      "source": [
        "#Initializing the model from Together\n",
        "llm = Together(\n",
        "    model=\"teknium/OpenHermes-2p5-Mistral-7B\",\n",
        "    temperature=0.3,\n",
        "    max_tokens=256,\n",
        "    top_k=50,\n",
        "    # together_api_key=\"...\"\n",
        ")\n",
        "\n",
        "retriever = SelfQueryRetriever.from_llm(\n",
        "    llm,\n",
        "    vectorstore,\n",
        "    document_content_description,\n",
        "    metadata_field_info,\n",
        "    verbose=True\n",
        ")"
      ],
      "metadata": {
        "id": "eGO_mm7xhggr"
      },
      "execution_count": 15,
      "outputs": []
    },
    {
      "cell_type": "code",
      "source": [
        "#Example specifying a relevant query\n",
        "retriever.get_relevant_documents(\"Name me some beers?\")"
      ],
      "metadata": {
        "colab": {
          "base_uri": "https://localhost:8080/"
        },
        "id": "9uM6dmtCiDDo",
        "outputId": "eae72178-bc38-4abb-f070-e230a3a3ba29"
      },
      "execution_count": 18,
      "outputs": [
        {
          "output_type": "execute_result",
          "data": {
            "text/plain": [
              "[Document(page_content='Sour and salty with a lemon tartness and a crisp, dry finish. Refreshing and light.', metadata={'ABV': 4.3, 'IBU': 10, 'country': 'Germany', 'name': 'Gose Gone Wild', 'price_per_bottle': 14, 'rating': 96, 'style': 'Gose', 'year': 2020}),\n",
              " Document(page_content='Sour and salty with a lemon tartness and a crisp, dry finish. Refreshing and light.', metadata={'ABV': 4.3, 'IBU': 10, 'country': 'Germany', 'name': 'Gose Gone Wild', 'price_per_bottle': 14, 'rating': 96, 'style': 'Gose', 'year': 2020}),\n",
              " Document(page_content='Aromatic with a rich hoppy flavor and notes of tropical fruit. Crisp and refreshing.', metadata={'ABV': 8.5, 'IBU': 70, 'country': 'USA', 'name': 'Ghost in the Machine', 'price_per_bottle': 16, 'rating': 97, 'style': 'Double IPA', 'year': 2021}),\n",
              " Document(page_content='Aromatic with a rich hoppy flavor and notes of tropical fruit. Crisp and refreshing.', metadata={'ABV': 8.5, 'IBU': 70, 'country': 'USA', 'name': 'Ghost in the Machine', 'price_per_bottle': 16, 'rating': 97, 'style': 'Double IPA', 'year': 2021})]"
            ]
          },
          "metadata": {},
          "execution_count": 18
        }
      ]
    },
    {
      "cell_type": "code",
      "source": [
        "#Example specifying a query and a filter\n",
        "retriever.get_relevant_documents(\"I want a beer that has fruity notes and has a rating above 97\")"
      ],
      "metadata": {
        "colab": {
          "base_uri": "https://localhost:8080/"
        },
        "id": "tySf8OEhimt5",
        "outputId": "ad975a39-3417-4972-a157-f4fb12197ed5"
      },
      "execution_count": 19,
      "outputs": [
        {
          "output_type": "execute_result",
          "data": {
            "text/plain": [
              "[Document(page_content='Aromatic with a rich hoppy flavor and notes of tropical fruit. Crisp and refreshing.', metadata={'ABV': 8.5, 'IBU': 70, 'country': 'USA', 'name': 'Ghost in the Machine', 'price_per_bottle': 16, 'rating': 97, 'style': 'Double IPA', 'year': 2021}),\n",
              " Document(page_content='Aromatic with a rich hoppy flavor and notes of tropical fruit. Crisp and refreshing.', metadata={'ABV': 8.5, 'IBU': 70, 'country': 'USA', 'name': 'Ghost in the Machine', 'price_per_bottle': 16, 'rating': 97, 'style': 'Double IPA', 'year': 2021}),\n",
              " Document(page_content='Smooth and malty, with layers of toffee and nuts. Subtle hop finish.', metadata={'ABV': 6.7, 'IBU': 24, 'country': 'Germany', 'name': 'Celebrator Doppelbock', 'price_per_bottle': 12, 'rating': 97, 'style': 'Doppelbock', 'year': 2021}),\n",
              " Document(page_content='Smooth and malty, with layers of toffee and nuts. Subtle hop finish.', metadata={'ABV': 6.7, 'IBU': 24, 'country': 'Germany', 'name': 'Celebrator Doppelbock', 'price_per_bottle': 12, 'rating': 97, 'style': 'Doppelbock', 'year': 2021})]"
            ]
          },
          "metadata": {},
          "execution_count": 19
        }
      ]
    },
    {
      "cell_type": "markdown",
      "source": [
        "##Exploring diffrent prompt engineering techniques"
      ],
      "metadata": {
        "id": "c50C20RTlm4M"
      }
    },
    {
      "cell_type": "code",
      "source": [
        "# N-shot Prompting Template\n",
        "n_shot_template = \"\"\"You are a beer expert. Here are some examples of beer recommendations:\n",
        "Example 1:\n",
        "Question: Recommend a beer for a summer barbecue.\n",
        "Answer: A light lager like Summerfest from Sierra Nevada is perfect for hot days.\n",
        "\n",
        "Example 2:\n",
        "Question: What's a good beer with spicy food?\n",
        "Answer: The Sculpin IPA from Ballast Point has a bold, citrus flavor that complements spicy dishes well.\n",
        "\n",
        "Now, your question:\n",
        "{question}\n",
        "\"\"\"\n",
        "prompt_n_shot = ChatPromptTemplate.from_template(n_shot_template)\n",
        "\n",
        "# Use the modified template with examples\n",
        "chain = (\n",
        "    {\"context\": retriever, \"question\": RunnablePassthrough()}\n",
        "    | prompt_n_shot\n",
        "    | llm\n",
        "    | StrOutputParser()\n",
        ")\n",
        "\n",
        "input_query = \"Recommend a craft beer with fruity notes and an ABV greater than 6%.\"\n",
        "output = chain.invoke(input_query)\n",
        "print(textwrap.fill(output))"
      ],
      "metadata": {
        "colab": {
          "base_uri": "https://localhost:8080/"
        },
        "id": "L41XuDVhkpgV",
        "outputId": "3a4a492b-0d79-4e82-9cc4-c5c47ee08bd4"
      },
      "execution_count": 33,
      "outputs": [
        {
          "output_type": "stream",
          "name": "stdout",
          "text": [
            " Answer: The Heady Topper from The Alchemist is a double IPA with a\n",
            "fruity aroma and a high ABV of 8%.\n"
          ]
        }
      ]
    },
    {
      "cell_type": "code",
      "source": [
        "#CoT Prompting Template\n",
        "cot_template = \"\"\"You are a beer expert. Think step by step to answer the question:\n",
        "{context}\n",
        "\n",
        "Question: {question}\n",
        "Think First: Consider the beer's flavor profile and how it might pair with foods or occasions.\n",
        "Next Step: Reflect on the ABV as it contributes to the beer's body and overall experience.\n",
        "Final Recommendation:\n",
        "\"\"\"\n",
        "prompt_cot = ChatPromptTemplate.from_template(cot_template)\n",
        "\n",
        "# Use the CoT template\n",
        "chain2 = (\n",
        "    {\"context\": retriever, \"question\": RunnablePassthrough()}\n",
        "    | prompt_cot\n",
        "    | llm\n",
        "    | StrOutputParser()\n",
        ")\n",
        "\n",
        "input_query = \"What beer goes well with grilled salmon?\"\n",
        "output = chain2.invoke(input_query)\n",
        "print(textwrap.fill(output))"
      ],
      "metadata": {
        "colab": {
          "base_uri": "https://localhost:8080/"
        },
        "id": "eb0Wh75GmgyO",
        "outputId": "f5016d5d-72ad-4590-8745-71f6b1664bb0"
      },
      "execution_count": 28,
      "outputs": [
        {
          "output_type": "stream",
          "name": "stdout",
          "text": [
            "Based on the provided information, the Punk IPA would be a good choice\n",
            "to pair with grilled salmon. Its unique blend of hops gives a floral\n",
            "aroma, with a balanced malt sweetness and a touch of citrus. The ABV\n",
            "of 5.6% is moderate and would not overpower the dish.\n"
          ]
        }
      ]
    },
    {
      "cell_type": "code",
      "source": [
        "#Generated Knowledge Prompting Template\n",
        "gen_knowledge_template = \"\"\"You are a beer expert. Generate useful insights about craft beers, then answer the question:\n",
        "Generate Insight: Describe the key characteristics of a great craft beer focusing on innovative brewing techniques and unique ingredients.\n",
        "\n",
        "Now, use this insight to answer:\n",
        "{question}\n",
        "\"\"\"\n",
        "prompt_gen_knowledge = ChatPromptTemplate.from_template(gen_knowledge_template)\n",
        "\n",
        "# Use the generated knowledge template\n",
        "chain3 = (\n",
        "    {\"context\": retriever, \"question\": RunnablePassthrough()}\n",
        "    | prompt_gen_knowledge\n",
        "    | llm\n",
        "    | StrOutputParser()\n",
        ")\n",
        "\n",
        "input_query = \"What makes an IPA stand out from other beer styles?\"\n",
        "output = chain3.invoke(input_query)\n",
        "print(textwrap.fill(output))"
      ],
      "metadata": {
        "colab": {
          "base_uri": "https://localhost:8080/"
        },
        "id": "M1JmS-DAml_N",
        "outputId": "986632b5-e56b-45a2-b23f-1957828407c4"
      },
      "execution_count": 29,
      "outputs": [
        {
          "output_type": "stream",
          "name": "stdout",
          "text": [
            " AI: A great craft beer is characterized by its innovative brewing\n",
            "techniques and unique ingredients that set it apart from mass-produced\n",
            "beers. These beers often showcase the creativity of the brewer and\n",
            "highlight the diverse range of flavors and aromas that can be achieved\n",
            "through careful experimentation.  An IPA stands out from other beer\n",
            "styles due to its bold hop character, which is often achieved through\n",
            "the use of a variety of hop varieties and innovative brewing\n",
            "techniques. IPAs typically have a higher alcohol content and a more\n",
            "bitter taste than other beers, which is a result of the increased use\n",
            "of hops during the brewing process. The unique combination of malts\n",
            "and hops used in IPAs creates a complex flavor profile that is both\n",
            "refreshing and satisfying, making it a popular choice among craft beer\n",
            "enthusiasts.\n"
          ]
        }
      ]
    },
    {
      "cell_type": "markdown",
      "source": [
        "##Gradio depolyment"
      ],
      "metadata": {
        "id": "VAMZJj9Nmzi7"
      }
    },
    {
      "cell_type": "code",
      "source": [
        "#Defining function for Gradio\n",
        "def recommend_beers(question, technique='n-shot'):\n",
        "    if technique == 'n-shot':\n",
        "        output = chain.invoke(question)\n",
        "    elif technique == 'cot':\n",
        "        output = chain2.invoke(question)\n",
        "    elif technique == 'gen-knowledge':\n",
        "        output = chain3.invoke(question)\n",
        "    else:\n",
        "        output = \"Technique not recognized. Please choose 'N-shot', 'CoT', or 'Gen-Knowledge'.\"\n",
        "    return output\n",
        "\n",
        "interface = gr.Interface(\n",
        "    fn=lambda question, technique: recommend_beers(question, technique),\n",
        "    inputs=[gr.Textbox(label=\"Your Question\"), gr.Dropdown(['N-shot', 'CoT', 'Gen-Knowledge'], label=\"Prompting Technique\")],\n",
        "    outputs=gr.Textbox(),\n",
        "    title=\"Beer Recommendation Expert\",\n",
        "    description=\"Ask me for craft beer recommendations or information about craft beers! Select the prompting technique you'd like to use.\",\n",
        ")\n",
        "\n",
        "interface.launch()"
      ],
      "metadata": {
        "colab": {
          "base_uri": "https://localhost:8080/",
          "height": 648
        },
        "id": "N5ThVC2Wrpk4",
        "outputId": "1a6006f2-888c-46c2-edb0-d683eb84d2d9"
      },
      "execution_count": 44,
      "outputs": [
        {
          "output_type": "stream",
          "name": "stdout",
          "text": [
            "Setting queue=True in a Colab notebook requires sharing enabled. Setting `share=True` (you can turn this off by setting `share=False` in `launch()` explicitly).\n",
            "\n",
            "Colab notebook detected. To show errors in colab notebook, set debug=True in launch()\n",
            "Running on public URL: https://4fd298f3dee9e1f9f6.gradio.live\n",
            "\n",
            "This share link expires in 72 hours. For free permanent hosting and GPU upgrades, run `gradio deploy` from Terminal to deploy to Spaces (https://huggingface.co/spaces)\n"
          ]
        },
        {
          "output_type": "display_data",
          "data": {
            "text/plain": [
              "<IPython.core.display.HTML object>"
            ],
            "text/html": [
              "<div><iframe src=\"https://4fd298f3dee9e1f9f6.gradio.live\" width=\"100%\" height=\"500\" allow=\"autoplay; camera; microphone; clipboard-read; clipboard-write;\" frameborder=\"0\" allowfullscreen></iframe></div>"
            ]
          },
          "metadata": {}
        },
        {
          "output_type": "execute_result",
          "data": {
            "text/plain": []
          },
          "metadata": {},
          "execution_count": 44
        }
      ]
    }
  ]
}